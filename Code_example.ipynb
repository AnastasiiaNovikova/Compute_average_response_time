{
 "cells": [
  {
   "cell_type": "code",
   "execution_count": 15,
   "metadata": {
    "collapsed": true
   },
   "outputs": [],
   "source": [
    "import json\n",
    "import os\n",
    "import tempfile\n",
    "from statistics import mean"
   ]
  },
  {
   "cell_type": "markdown",
   "metadata": {},
   "source": [
    "### Реализация класса для имплементации алгоритмов"
   ]
  },
  {
   "cell_type": "code",
   "execution_count": 19,
   "metadata": {
    "collapsed": true
   },
   "outputs": [],
   "source": [
    "class Algorithm:\n",
    "    \n",
    "    def __init__(self, algo):\n",
    "        self.algorithm = algo\n",
    "        \n",
    "    def show_error_msg(self, error_type):\n",
    "        print (\"Can't compute the result for {} because of {}\".format(self.algorithm.__name__, error_type))\n",
    "        \n",
    "    def apply(self, *args, **kwargs):\n",
    "        try:\n",
    "            return self.algorithm(*args, **kwargs)\n",
    "        except Exception as err:\n",
    "            self.show_error_msg(err.__class__.__name__)"
   ]
  },
  {
   "cell_type": "markdown",
   "metadata": {},
   "source": [
    "### Примеры работы класса Algorithm"
   ]
  },
  {
   "cell_type": "code",
   "execution_count": 20,
   "metadata": {
    "collapsed": true
   },
   "outputs": [],
   "source": [
    "alg = Algorithm(sorted)"
   ]
  },
  {
   "cell_type": "code",
   "execution_count": 21,
   "metadata": {},
   "outputs": [
    {
     "data": {
      "text/plain": [
       "[2, 4, 7, 9]"
      ]
     },
     "execution_count": 21,
     "metadata": {},
     "output_type": "execute_result"
    }
   ],
   "source": [
    "alg.apply([7, 4, 9, 2])"
   ]
  },
  {
   "cell_type": "code",
   "execution_count": null,
   "metadata": {
    "collapsed": true
   },
   "outputs": [],
   "source": []
  },
  {
   "cell_type": "code",
   "execution_count": 22,
   "metadata": {
    "collapsed": true
   },
   "outputs": [],
   "source": [
    "alg = Algorithm(reversed)"
   ]
  },
  {
   "cell_type": "code",
   "execution_count": 23,
   "metadata": {},
   "outputs": [
    {
     "name": "stdout",
     "output_type": "stream",
     "text": [
      "2\n",
      "9\n",
      "4\n",
      "1\n"
     ]
    }
   ],
   "source": [
    "reserved_list = alg.apply([1, 4, 9, 2])\n",
    "for i in reserved_list:\n",
    "    print (i)"
   ]
  },
  {
   "cell_type": "code",
   "execution_count": null,
   "metadata": {
    "collapsed": true
   },
   "outputs": [],
   "source": []
  },
  {
   "cell_type": "code",
   "execution_count": 24,
   "metadata": {
    "collapsed": true
   },
   "outputs": [],
   "source": [
    "def find_number_in_string(string):\n",
    "    for symbol in string:\n",
    "        if symbol.isdigit():\n",
    "            return True\n",
    "    return False"
   ]
  },
  {
   "cell_type": "code",
   "execution_count": 25,
   "metadata": {},
   "outputs": [
    {
     "data": {
      "text/plain": [
       "True"
      ]
     },
     "execution_count": 25,
     "metadata": {},
     "output_type": "execute_result"
    }
   ],
   "source": [
    "alg = Algorithm(find_number_in_string)\n",
    "alg.apply('qwerty3')"
   ]
  },
  {
   "cell_type": "code",
   "execution_count": null,
   "metadata": {
    "collapsed": true
   },
   "outputs": [],
   "source": []
  },
  {
   "cell_type": "markdown",
   "metadata": {},
   "source": [
    "### Реализация алгоритма из задания"
   ]
  },
  {
   "cell_type": "code",
   "execution_count": 29,
   "metadata": {
    "collapsed": true
   },
   "outputs": [],
   "source": [
    "def compute_average_response_time(requests):\n",
    "    response_data = dict()\n",
    "    average_response_time_stat = dict()\n",
    "                \n",
    "    def check_input_params(requests):\n",
    "        if not isinstance(requests, list):\n",
    "            raise TypeError(\"Input data must be a list\")\n",
    "        for item in requests:\n",
    "            if len(item) != 2:\n",
    "                raise TypeError(\"Input data must be list of tuples with length 2\")\n",
    "            if not isinstance(item[0], int) or not isinstance(item[1], float):\n",
    "                raise TypeError(\"The first argument must have type 'int', the second - type 'float' \")\n",
    "            if not 100 <= item[0] <= 600:\n",
    "                raise ValueError(\"The first argument must be an integer between 100 fnd 600\")\n",
    "            if not 0.0 <= item[1] <= 100.0:\n",
    "                raise ValueError(\"The second argument must be a float between 0.0 and 100.0\")\n",
    "                \n",
    "    def check_length(key, code, item, needed_num):\n",
    "        if len(item) < needed_num:\n",
    "            print(\"{} for code {} was computed with {} values\".format(code, key, len(item))) \n",
    "    \n",
    "    check_input_params(requests)\n",
    "    storage_path = os.path.join(tempfile.gettempdir(), 'Input_data.data')\n",
    "    \n",
    "    def get_data():\n",
    "        if not os.path.exists(storage_path):\n",
    "            return {}\n",
    "\n",
    "        with open(storage_path, 'r') as f:\n",
    "            raw_data = f.read()\n",
    "            if raw_data:\n",
    "                return json.loads(raw_data)\n",
    "\n",
    "            return {}\n",
    "        \n",
    "    def put_data(data):\n",
    "        with open(storage_path, 'w') as f:\n",
    "            f.write(json.dumps(data))\n",
    "    \n",
    "    def build_request_dict():\n",
    "        for item in requests:\n",
    "            try:\n",
    "                response_data[str(item[0])].append(item[1])\n",
    "            except KeyError:\n",
    "                response_data[str(item[0])] = [item[1]]\n",
    "                \n",
    "    old_data = get_data()\n",
    "                \n",
    "    def extend_statistics():\n",
    "        for key, value in response_data.items():\n",
    "            try:\n",
    "                old_data[key].extend(value)\n",
    "            except KeyError:\n",
    "                old_data[key] = value\n",
    "                \n",
    "        put_data(old_data)\n",
    "        \n",
    "    def compute_average_for_request(txt, container, number_of_requests, key, value):\n",
    "        container[txt] = \"%.3f\"% mean(value[-number_of_requests:])\n",
    "        check_length(key, txt, value, number_of_requests)\n",
    "    \n",
    "    def compute_result():\n",
    "        build_request_dict()\n",
    "        extend_statistics()\n",
    "        for key, value in old_data.items():\n",
    "            tmp = dict()\n",
    "            compute_average_for_request('average for 5', tmp, 5, key, value)\n",
    "            compute_average_for_request('average for 10', tmp, 10, key, value)\n",
    "            compute_average_for_request('average for 20', tmp, 20, key, value)\n",
    "            average_response_time_stat['status_code: {}'.format(key)] = tmp\n",
    "            \n",
    "        return average_response_time_stat\n",
    "    \n",
    "    return compute_result()"
   ]
  },
  {
   "cell_type": "code",
   "execution_count": 30,
   "metadata": {
    "collapsed": true
   },
   "outputs": [],
   "source": [
    "requests = [\n",
    "    (200, 5.0), \n",
    "    (404, 4.2), \n",
    "    (200, 6.4), \n",
    "    (500, 8.5),\n",
    "    (500, 2.3),\n",
    "    (200, 0.5),\n",
    "    (404, 8.5),\n",
    "    (200, 5.4),\n",
    "    (500, 1.5),\n",
    "    (500, 5.3),\n",
    "    (200, 4.5),\n",
    "    (404, 7.5),\n",
    "    (200, 5.4)\n",
    "]"
   ]
  },
  {
   "cell_type": "markdown",
   "metadata": {},
   "source": [
    "### Применение класса Algorithm для реализованного алгоритма"
   ]
  },
  {
   "cell_type": "code",
   "execution_count": 31,
   "metadata": {},
   "outputs": [
    {
     "name": "stdout",
     "output_type": "stream",
     "text": [
      "average for 10 for code 200 was computed with 6 values\n",
      "average for 20 for code 200 was computed with 6 values\n",
      "average for 5 for code 404 was computed with 3 values\n",
      "average for 10 for code 404 was computed with 3 values\n",
      "average for 20 for code 404 was computed with 3 values\n",
      "average for 5 for code 500 was computed with 4 values\n",
      "average for 10 for code 500 was computed with 4 values\n",
      "average for 20 for code 500 was computed with 4 values\n"
     ]
    },
    {
     "data": {
      "text/plain": [
       "{'status_code: 200': {'average for 10': '4.533',\n",
       "  'average for 20': '4.533',\n",
       "  'average for 5': '4.440'},\n",
       " 'status_code: 404': {'average for 10': '6.733',\n",
       "  'average for 20': '6.733',\n",
       "  'average for 5': '6.733'},\n",
       " 'status_code: 500': {'average for 10': '4.400',\n",
       "  'average for 20': '4.400',\n",
       "  'average for 5': '4.400'}}"
      ]
     },
     "execution_count": 31,
     "metadata": {},
     "output_type": "execute_result"
    }
   ],
   "source": [
    "alg = Algorithm(compute_average_response_time)\n",
    "alg.apply(requests)"
   ]
  },
  {
   "cell_type": "code",
   "execution_count": null,
   "metadata": {
    "collapsed": true
   },
   "outputs": [],
   "source": []
  }
 ],
 "metadata": {
  "kernelspec": {
   "display_name": "Python 3",
   "language": "python",
   "name": "python3"
  },
  "language_info": {
   "codemirror_mode": {
    "name": "ipython",
    "version": 3
   },
   "file_extension": ".py",
   "mimetype": "text/x-python",
   "name": "python",
   "nbconvert_exporter": "python",
   "pygments_lexer": "ipython3",
   "version": "3.6.3"
  }
 },
 "nbformat": 4,
 "nbformat_minor": 2
}
